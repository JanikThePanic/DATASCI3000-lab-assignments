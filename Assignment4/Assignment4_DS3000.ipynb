{
  "cells": [
    {
      "cell_type": "markdown",
      "metadata": {
        "id": "6P6bAuoTZ_g3"
      },
      "source": [
        "# Assignment 4 - Neural Network"
      ]
    },
    {
      "cell_type": "markdown",
      "metadata": {
        "id": "0H-Yv6NgaAp6"
      },
      "source": [
        "## Grade: 100 pts + 10 Bonus\n",
        "\n",
        "This notebook contains the questions for Assignment 4.\n",
        "\n",
        "You must upload this completed Jupyter Notebook file as your submission (other file types are not permitted and will result in a grade of 0).***\n",
        "\n",
        "* If you have trouble running neural network models on your laptop, you can use online platforms, like **[Google Colab](https://colab.research.google.com/)**.\n",
        "* All Figures should have a x- and y-axis label and an appropriate title.\n",
        "**Ensure that your code runs correctly by choosing \"Kernel -> Restart and Cell -> Run All\" before submitting.**"
      ]
    },
    {
      "cell_type": "code",
      "execution_count": 11,
      "metadata": {
        "colab": {
          "base_uri": "https://localhost:8080/",
          "height": 889
        },
        "id": "un7MJwYU1k__",
        "outputId": "f4baab36-83bb-47f2-de8d-6eff800e298d"
      },
      "outputs": [
        {
          "output_type": "display_data",
          "data": {
            "text/plain": [
              "<IPython.core.display.HTML object>"
            ],
            "text/html": [
              "\n",
              "     <input type=\"file\" id=\"files-1feadd67-117e-47b9-9c00-48746148c00a\" name=\"files[]\" multiple disabled\n",
              "        style=\"border:none\" />\n",
              "     <output id=\"result-1feadd67-117e-47b9-9c00-48746148c00a\">\n",
              "      Upload widget is only available when the cell has been executed in the\n",
              "      current browser session. Please rerun this cell to enable.\n",
              "      </output>\n",
              "      <script>// Copyright 2017 Google LLC\n",
              "//\n",
              "// Licensed under the Apache License, Version 2.0 (the \"License\");\n",
              "// you may not use this file except in compliance with the License.\n",
              "// You may obtain a copy of the License at\n",
              "//\n",
              "//      http://www.apache.org/licenses/LICENSE-2.0\n",
              "//\n",
              "// Unless required by applicable law or agreed to in writing, software\n",
              "// distributed under the License is distributed on an \"AS IS\" BASIS,\n",
              "// WITHOUT WARRANTIES OR CONDITIONS OF ANY KIND, either express or implied.\n",
              "// See the License for the specific language governing permissions and\n",
              "// limitations under the License.\n",
              "\n",
              "/**\n",
              " * @fileoverview Helpers for google.colab Python module.\n",
              " */\n",
              "(function(scope) {\n",
              "function span(text, styleAttributes = {}) {\n",
              "  const element = document.createElement('span');\n",
              "  element.textContent = text;\n",
              "  for (const key of Object.keys(styleAttributes)) {\n",
              "    element.style[key] = styleAttributes[key];\n",
              "  }\n",
              "  return element;\n",
              "}\n",
              "\n",
              "// Max number of bytes which will be uploaded at a time.\n",
              "const MAX_PAYLOAD_SIZE = 100 * 1024;\n",
              "\n",
              "function _uploadFiles(inputId, outputId) {\n",
              "  const steps = uploadFilesStep(inputId, outputId);\n",
              "  const outputElement = document.getElementById(outputId);\n",
              "  // Cache steps on the outputElement to make it available for the next call\n",
              "  // to uploadFilesContinue from Python.\n",
              "  outputElement.steps = steps;\n",
              "\n",
              "  return _uploadFilesContinue(outputId);\n",
              "}\n",
              "\n",
              "// This is roughly an async generator (not supported in the browser yet),\n",
              "// where there are multiple asynchronous steps and the Python side is going\n",
              "// to poll for completion of each step.\n",
              "// This uses a Promise to block the python side on completion of each step,\n",
              "// then passes the result of the previous step as the input to the next step.\n",
              "function _uploadFilesContinue(outputId) {\n",
              "  const outputElement = document.getElementById(outputId);\n",
              "  const steps = outputElement.steps;\n",
              "\n",
              "  const next = steps.next(outputElement.lastPromiseValue);\n",
              "  return Promise.resolve(next.value.promise).then((value) => {\n",
              "    // Cache the last promise value to make it available to the next\n",
              "    // step of the generator.\n",
              "    outputElement.lastPromiseValue = value;\n",
              "    return next.value.response;\n",
              "  });\n",
              "}\n",
              "\n",
              "/**\n",
              " * Generator function which is called between each async step of the upload\n",
              " * process.\n",
              " * @param {string} inputId Element ID of the input file picker element.\n",
              " * @param {string} outputId Element ID of the output display.\n",
              " * @return {!Iterable<!Object>} Iterable of next steps.\n",
              " */\n",
              "function* uploadFilesStep(inputId, outputId) {\n",
              "  const inputElement = document.getElementById(inputId);\n",
              "  inputElement.disabled = false;\n",
              "\n",
              "  const outputElement = document.getElementById(outputId);\n",
              "  outputElement.innerHTML = '';\n",
              "\n",
              "  const pickedPromise = new Promise((resolve) => {\n",
              "    inputElement.addEventListener('change', (e) => {\n",
              "      resolve(e.target.files);\n",
              "    });\n",
              "  });\n",
              "\n",
              "  const cancel = document.createElement('button');\n",
              "  inputElement.parentElement.appendChild(cancel);\n",
              "  cancel.textContent = 'Cancel upload';\n",
              "  const cancelPromise = new Promise((resolve) => {\n",
              "    cancel.onclick = () => {\n",
              "      resolve(null);\n",
              "    };\n",
              "  });\n",
              "\n",
              "  // Wait for the user to pick the files.\n",
              "  const files = yield {\n",
              "    promise: Promise.race([pickedPromise, cancelPromise]),\n",
              "    response: {\n",
              "      action: 'starting',\n",
              "    }\n",
              "  };\n",
              "\n",
              "  cancel.remove();\n",
              "\n",
              "  // Disable the input element since further picks are not allowed.\n",
              "  inputElement.disabled = true;\n",
              "\n",
              "  if (!files) {\n",
              "    return {\n",
              "      response: {\n",
              "        action: 'complete',\n",
              "      }\n",
              "    };\n",
              "  }\n",
              "\n",
              "  for (const file of files) {\n",
              "    const li = document.createElement('li');\n",
              "    li.append(span(file.name, {fontWeight: 'bold'}));\n",
              "    li.append(span(\n",
              "        `(${file.type || 'n/a'}) - ${file.size} bytes, ` +\n",
              "        `last modified: ${\n",
              "            file.lastModifiedDate ? file.lastModifiedDate.toLocaleDateString() :\n",
              "                                    'n/a'} - `));\n",
              "    const percent = span('0% done');\n",
              "    li.appendChild(percent);\n",
              "\n",
              "    outputElement.appendChild(li);\n",
              "\n",
              "    const fileDataPromise = new Promise((resolve) => {\n",
              "      const reader = new FileReader();\n",
              "      reader.onload = (e) => {\n",
              "        resolve(e.target.result);\n",
              "      };\n",
              "      reader.readAsArrayBuffer(file);\n",
              "    });\n",
              "    // Wait for the data to be ready.\n",
              "    let fileData = yield {\n",
              "      promise: fileDataPromise,\n",
              "      response: {\n",
              "        action: 'continue',\n",
              "      }\n",
              "    };\n",
              "\n",
              "    // Use a chunked sending to avoid message size limits. See b/62115660.\n",
              "    let position = 0;\n",
              "    do {\n",
              "      const length = Math.min(fileData.byteLength - position, MAX_PAYLOAD_SIZE);\n",
              "      const chunk = new Uint8Array(fileData, position, length);\n",
              "      position += length;\n",
              "\n",
              "      const base64 = btoa(String.fromCharCode.apply(null, chunk));\n",
              "      yield {\n",
              "        response: {\n",
              "          action: 'append',\n",
              "          file: file.name,\n",
              "          data: base64,\n",
              "        },\n",
              "      };\n",
              "\n",
              "      let percentDone = fileData.byteLength === 0 ?\n",
              "          100 :\n",
              "          Math.round((position / fileData.byteLength) * 100);\n",
              "      percent.textContent = `${percentDone}% done`;\n",
              "\n",
              "    } while (position < fileData.byteLength);\n",
              "  }\n",
              "\n",
              "  // All done.\n",
              "  yield {\n",
              "    response: {\n",
              "      action: 'complete',\n",
              "    }\n",
              "  };\n",
              "}\n",
              "\n",
              "scope.google = scope.google || {};\n",
              "scope.google.colab = scope.google.colab || {};\n",
              "scope.google.colab._files = {\n",
              "  _uploadFiles,\n",
              "  _uploadFilesContinue,\n",
              "};\n",
              "})(self);\n",
              "</script> "
            ]
          },
          "metadata": {}
        },
        {
          "output_type": "stream",
          "name": "stdout",
          "text": [
            "Saving CAN-intrusion-dataset-10000.csv to CAN-intrusion-dataset-10000 (4).csv\n",
            "Requirement already satisfied: keras in /usr/local/lib/python3.10/dist-packages (2.10.0)\n",
            "Requirement already satisfied: tensorflow==2.10.0 in /usr/local/lib/python3.10/dist-packages (2.10.0)\n",
            "Requirement already satisfied: scikit-learn in /usr/local/lib/python3.10/dist-packages (1.5.2)\n",
            "Requirement already satisfied: absl-py>=1.0.0 in /usr/local/lib/python3.10/dist-packages (from tensorflow==2.10.0) (1.4.0)\n",
            "Requirement already satisfied: astunparse>=1.6.0 in /usr/local/lib/python3.10/dist-packages (from tensorflow==2.10.0) (1.6.3)\n",
            "Requirement already satisfied: flatbuffers>=2.0 in /usr/local/lib/python3.10/dist-packages (from tensorflow==2.10.0) (24.3.25)\n",
            "Requirement already satisfied: gast<=0.4.0,>=0.2.1 in /usr/local/lib/python3.10/dist-packages (from tensorflow==2.10.0) (0.4.0)\n",
            "Requirement already satisfied: google-pasta>=0.1.1 in /usr/local/lib/python3.10/dist-packages (from tensorflow==2.10.0) (0.2.0)\n",
            "Requirement already satisfied: grpcio<2.0,>=1.24.3 in /usr/local/lib/python3.10/dist-packages (from tensorflow==2.10.0) (1.68.0)\n",
            "Requirement already satisfied: h5py>=2.9.0 in /usr/local/lib/python3.10/dist-packages (from tensorflow==2.10.0) (3.12.1)\n",
            "Requirement already satisfied: keras-preprocessing>=1.1.1 in /usr/local/lib/python3.10/dist-packages (from tensorflow==2.10.0) (1.1.2)\n",
            "Requirement already satisfied: libclang>=13.0.0 in /usr/local/lib/python3.10/dist-packages (from tensorflow==2.10.0) (18.1.1)\n",
            "Requirement already satisfied: numpy>=1.20 in /usr/local/lib/python3.10/dist-packages (from tensorflow==2.10.0) (1.26.4)\n",
            "Requirement already satisfied: opt-einsum>=2.3.2 in /usr/local/lib/python3.10/dist-packages (from tensorflow==2.10.0) (3.4.0)\n",
            "Requirement already satisfied: packaging in /usr/local/lib/python3.10/dist-packages (from tensorflow==2.10.0) (24.2)\n",
            "Requirement already satisfied: protobuf<3.20,>=3.9.2 in /usr/local/lib/python3.10/dist-packages (from tensorflow==2.10.0) (3.19.6)\n",
            "Requirement already satisfied: setuptools in /usr/local/lib/python3.10/dist-packages (from tensorflow==2.10.0) (75.1.0)\n",
            "Requirement already satisfied: six>=1.12.0 in /usr/local/lib/python3.10/dist-packages (from tensorflow==2.10.0) (1.16.0)\n",
            "Requirement already satisfied: tensorboard<2.11,>=2.10 in /usr/local/lib/python3.10/dist-packages (from tensorflow==2.10.0) (2.10.1)\n",
            "Requirement already satisfied: tensorflow-io-gcs-filesystem>=0.23.1 in /usr/local/lib/python3.10/dist-packages (from tensorflow==2.10.0) (0.37.1)\n",
            "Requirement already satisfied: tensorflow-estimator<2.11,>=2.10.0 in /usr/local/lib/python3.10/dist-packages (from tensorflow==2.10.0) (2.10.0)\n",
            "Requirement already satisfied: termcolor>=1.1.0 in /usr/local/lib/python3.10/dist-packages (from tensorflow==2.10.0) (2.5.0)\n",
            "Requirement already satisfied: typing-extensions>=3.6.6 in /usr/local/lib/python3.10/dist-packages (from tensorflow==2.10.0) (4.12.2)\n",
            "Requirement already satisfied: wrapt>=1.11.0 in /usr/local/lib/python3.10/dist-packages (from tensorflow==2.10.0) (1.16.0)\n",
            "Requirement already satisfied: scipy>=1.6.0 in /usr/local/lib/python3.10/dist-packages (from scikit-learn) (1.13.1)\n",
            "Requirement already satisfied: joblib>=1.2.0 in /usr/local/lib/python3.10/dist-packages (from scikit-learn) (1.4.2)\n",
            "Requirement already satisfied: threadpoolctl>=3.1.0 in /usr/local/lib/python3.10/dist-packages (from scikit-learn) (3.5.0)\n",
            "Requirement already satisfied: wheel<1.0,>=0.23.0 in /usr/local/lib/python3.10/dist-packages (from astunparse>=1.6.0->tensorflow==2.10.0) (0.45.0)\n",
            "Requirement already satisfied: google-auth<3,>=1.6.3 in /usr/local/lib/python3.10/dist-packages (from tensorboard<2.11,>=2.10->tensorflow==2.10.0) (2.27.0)\n",
            "Requirement already satisfied: google-auth-oauthlib<0.5,>=0.4.1 in /usr/local/lib/python3.10/dist-packages (from tensorboard<2.11,>=2.10->tensorflow==2.10.0) (0.4.6)\n",
            "Requirement already satisfied: markdown>=2.6.8 in /usr/local/lib/python3.10/dist-packages (from tensorboard<2.11,>=2.10->tensorflow==2.10.0) (3.7)\n",
            "Requirement already satisfied: requests<3,>=2.21.0 in /usr/local/lib/python3.10/dist-packages (from tensorboard<2.11,>=2.10->tensorflow==2.10.0) (2.32.3)\n",
            "Requirement already satisfied: tensorboard-data-server<0.7.0,>=0.6.0 in /usr/local/lib/python3.10/dist-packages (from tensorboard<2.11,>=2.10->tensorflow==2.10.0) (0.6.1)\n",
            "Requirement already satisfied: tensorboard-plugin-wit>=1.6.0 in /usr/local/lib/python3.10/dist-packages (from tensorboard<2.11,>=2.10->tensorflow==2.10.0) (1.8.1)\n",
            "Requirement already satisfied: werkzeug>=1.0.1 in /usr/local/lib/python3.10/dist-packages (from tensorboard<2.11,>=2.10->tensorflow==2.10.0) (3.1.3)\n",
            "Requirement already satisfied: cachetools<6.0,>=2.0.0 in /usr/local/lib/python3.10/dist-packages (from google-auth<3,>=1.6.3->tensorboard<2.11,>=2.10->tensorflow==2.10.0) (5.5.0)\n",
            "Requirement already satisfied: pyasn1-modules>=0.2.1 in /usr/local/lib/python3.10/dist-packages (from google-auth<3,>=1.6.3->tensorboard<2.11,>=2.10->tensorflow==2.10.0) (0.4.1)\n",
            "Requirement already satisfied: rsa<5,>=3.1.4 in /usr/local/lib/python3.10/dist-packages (from google-auth<3,>=1.6.3->tensorboard<2.11,>=2.10->tensorflow==2.10.0) (4.9)\n",
            "Requirement already satisfied: requests-oauthlib>=0.7.0 in /usr/local/lib/python3.10/dist-packages (from google-auth-oauthlib<0.5,>=0.4.1->tensorboard<2.11,>=2.10->tensorflow==2.10.0) (1.3.1)\n",
            "Requirement already satisfied: charset-normalizer<4,>=2 in /usr/local/lib/python3.10/dist-packages (from requests<3,>=2.21.0->tensorboard<2.11,>=2.10->tensorflow==2.10.0) (3.4.0)\n",
            "Requirement already satisfied: idna<4,>=2.5 in /usr/local/lib/python3.10/dist-packages (from requests<3,>=2.21.0->tensorboard<2.11,>=2.10->tensorflow==2.10.0) (3.10)\n",
            "Requirement already satisfied: urllib3<3,>=1.21.1 in /usr/local/lib/python3.10/dist-packages (from requests<3,>=2.21.0->tensorboard<2.11,>=2.10->tensorflow==2.10.0) (2.2.3)\n",
            "Requirement already satisfied: certifi>=2017.4.17 in /usr/local/lib/python3.10/dist-packages (from requests<3,>=2.21.0->tensorboard<2.11,>=2.10->tensorflow==2.10.0) (2024.8.30)\n",
            "Requirement already satisfied: MarkupSafe>=2.1.1 in /usr/local/lib/python3.10/dist-packages (from werkzeug>=1.0.1->tensorboard<2.11,>=2.10->tensorflow==2.10.0) (3.0.2)\n",
            "Requirement already satisfied: pyasn1<0.7.0,>=0.4.6 in /usr/local/lib/python3.10/dist-packages (from pyasn1-modules>=0.2.1->google-auth<3,>=1.6.3->tensorboard<2.11,>=2.10->tensorflow==2.10.0) (0.6.1)\n",
            "Requirement already satisfied: oauthlib>=3.0.0 in /usr/local/lib/python3.10/dist-packages (from requests-oauthlib>=0.7.0->google-auth-oauthlib<0.5,>=0.4.1->tensorboard<2.11,>=2.10->tensorflow==2.10.0) (3.2.2)\n",
            "Setup complete!\n"
          ]
        }
      ],
      "source": [
        "# Using Colab\n",
        "from google.colab import files\n",
        "uploaded = files.upload()\n",
        "\n",
        "!pip install keras tensorflow==2.10.0 scikit-learn\n",
        "\n",
        "import warnings\n",
        "warnings.filterwarnings('ignore')\n",
        "\n",
        "import time\n",
        "import numpy as np\n",
        "import pandas as pd\n",
        "import matplotlib.pyplot as plt\n",
        "%matplotlib inline\n",
        "\n",
        "from sklearn.model_selection import train_test_split, GridSearchCV\n",
        "from sklearn.linear_model import LogisticRegression\n",
        "from sklearn.metrics import accuracy_score, f1_score, recall_score, precision_score\n",
        "from sklearn.preprocessing import StandardScaler\n",
        "\n",
        "import tensorflow as tf\n",
        "from keras.wrappers.scikit_learn import KerasClassifier\n",
        "from keras import Model, Sequential\n",
        "from keras.layers import Dense, Input\n",
        "from keras.optimizers import SGD\n",
        "\n",
        "print(\"Setup complete!\")"
      ]
    },
    {
      "cell_type": "markdown",
      "metadata": {
        "id": "PaD6nkpfZ1zY"
      },
      "source": [
        "## Data set\n",
        "As modern vehicles have lots of connectivity, protecting in-vehicle network from cyber-attacks is an important issue. Controller Area Network (CAN) is the standard protocol for the in-vehicle network. But, the lack of security features in the CAN protocol makes vehicles vulnerable to attacks. The message injection attack is a representative attack type which injects fabricated messages to deceive electronic control unit (ECUs) or cause malfunctions. Through this notebook, you will develop ML modeles to detect different types of CAN attacks and protect vehicle networks.\n",
        "\n",
        "### Source\n",
        "The dataset (CAN-intrusion-dataset-10000.csv) has been constructed by logging CAN traffic via the OBD-II port from a real vehicle while message injection attacks were performing. The classification goal is to distinguish cyber-attacks and normal samples by classifying the data samples. The dataset includes over 10,000 records and 10 attributes (including the target variable \"Label\").\n",
        "\n",
        "### Variables\n",
        "The definitions of the attributes are as followss.\n",
        "\n",
        "* CAN ID : identifier of CAN message.\n",
        "* DATA[0~7] : data value (byte), ranging from 0 to 255. They have been converted from hexadecimal numbers to decimal numbers.  \n",
        "* Label : 0 indicates 'Normal', and 1 indicates an attack (including DoS, Fuzzy, Gear, or RPM)."
      ]
    },
    {
      "cell_type": "markdown",
      "metadata": {
        "id": "Ils9GU09Z1za"
      },
      "source": [
        "## Question 1: Load Datasets (15pts)\n",
        "A) Load the Dataset CAN-intrusion-dataset-10000.csv\n",
        "\n",
        "B) Split the data into equals-sized training and test sets (use a random_state = 1, and do not shuffle the data).  \n",
        "\n",
        "C) How many observations do you have in your training set?  \n",
        "\n",
        "D) How many observations for each class in your training set?\n",
        "\n",
        "E) Z-standarize the input features of the training and test sets."
      ]
    },
    {
      "cell_type": "code",
      "execution_count": 12,
      "metadata": {
        "id": "Ednm-JC21lAD"
      },
      "outputs": [],
      "source": [
        "# Q1A)\n",
        "df = pd.read_csv('CAN-intrusion-dataset-10000.csv') # Reading the dataset using pandas"
      ]
    },
    {
      "cell_type": "code",
      "execution_count": 13,
      "metadata": {
        "id": "xc8ET56G1lAD"
      },
      "outputs": [],
      "source": [
        "# Q1B)\n",
        "X = df.drop(columns=['Label']) # Using all attributes except 'Label' as predictors\n",
        "y = df['Label'] # Predicting Label\n",
        "# Splitting the data in equal-sized training and test sets\n",
        "X_train, X_test, y_train, y_test = train_test_split(X, y, test_size=0.5, random_state=1, shuffle=False)"
      ]
    },
    {
      "cell_type": "code",
      "execution_count": 14,
      "metadata": {
        "colab": {
          "base_uri": "https://localhost:8080/"
        },
        "id": "-0vK6mx21lAE",
        "outputId": "0abb8c59-11e5-4e58-d47e-f997a05535f4"
      },
      "outputs": [
        {
          "output_type": "stream",
          "name": "stdout",
          "text": [
            "Number of observations in the training set: 5000\n"
          ]
        }
      ],
      "source": [
        "# Q1C)\n",
        "# Using .shape to display the number of rows / observations in the dataset\n",
        "train_observations_count = X_train.shape[0]\n",
        "print(\"Number of observations in the training set:\", train_observations_count)"
      ]
    },
    {
      "cell_type": "code",
      "execution_count": 15,
      "metadata": {
        "colab": {
          "base_uri": "https://localhost:8080/"
        },
        "id": "U8hsYkQN1lAF",
        "outputId": "fb531c74-f40d-4600-8fb5-0831db1b98a3"
      },
      "outputs": [
        {
          "output_type": "stream",
          "name": "stdout",
          "text": [
            "Number of observations for each class in the training set:\n",
            " Label\n",
            "0    4284\n",
            "1     716\n",
            "Name: count, dtype: int64\n"
          ]
        }
      ],
      "source": [
        "### Q1D)\n",
        "# Using the .value_counts() function to find the number of normal samples and cyber-attack samples\n",
        "train_class_counts = y_train.value_counts()\n",
        "print(\"Number of observations for each class in the training set:\\n\", train_class_counts)"
      ]
    },
    {
      "cell_type": "code",
      "execution_count": 16,
      "metadata": {
        "id": "HYT8GQxY1lAG"
      },
      "outputs": [],
      "source": [
        "### Q1E)\n",
        "# Using StandardScaler() to standardize features by removing the mean and scaling to unit variance\n",
        "scaler = StandardScaler()\n",
        "X_train_scaled = scaler.fit_transform(X_train)\n",
        "X_test_scaled = scaler.transform(X_test)"
      ]
    },
    {
      "cell_type": "markdown",
      "metadata": {
        "id": "C1tPRpxyZ1zh"
      },
      "source": [
        "## Question 2: Logistic Regression (20pts)\n",
        "A) Build a L1-regularized logistic regression model to all the training data, and then get the predicted labels for each item of the test set.\n",
        "\n",
        "B) Print out the precision, recall, and F1-score of the test set.\n",
        "\n",
        "C) Print out the model execution time (including both training and testing time) in milliseconds. Please keep two decimal places."
      ]
    },
    {
      "cell_type": "code",
      "execution_count": 17,
      "metadata": {
        "id": "jT2mszDM1lAG"
      },
      "outputs": [],
      "source": [
        "### Q2A)\n",
        "# Start the timer\n",
        "start_time = time.time()\n",
        "\n",
        "# Initialize the Logistic Regression model with L1 penalty (as opposed to the default L2 penalty)\n",
        "# 'liblinear' is a solver that is best suited for L1 regularization.\n",
        "# A solver is an algorithm used to find the optimal parameters (weights) for the logistic regression model.\n",
        "# Random state is clarified as 1\n",
        "log_reg = LogisticRegression(penalty='l1', solver='liblinear', random_state=1)\n",
        "\n",
        "# Training the model\n",
        "log_reg.fit(X_train, y_train)\n",
        "\n",
        "# Predicting the Label\n",
        "y_pred = log_reg.predict(X_test)\n",
        "\n",
        "# Stop the timer\n",
        "end_time = time.time()\n",
        "\n",
        "# Calculate execution time\n",
        "execution_time = (end_time - start_time) * 1000"
      ]
    },
    {
      "cell_type": "code",
      "execution_count": 18,
      "metadata": {
        "colab": {
          "base_uri": "https://localhost:8080/"
        },
        "id": "o1bmR5qU1lAH",
        "outputId": "5d740afe-41c0-436f-ee97-91aab45ac4d0"
      },
      "outputs": [
        {
          "output_type": "stream",
          "name": "stdout",
          "text": [
            "Precision: 0.98\n",
            "Recall: 0.56\n",
            "F1 Score: 0.71\n"
          ]
        }
      ],
      "source": [
        "### Q2B)\n",
        "# Find precision, recall, and F1 score\n",
        "precision = precision_score(y_test, y_pred)\n",
        "recall = recall_score(y_test, y_pred)\n",
        "f1 = f1_score(y_test, y_pred)\n",
        "\n",
        "# Print precision, recall, and F1 score to 2 decimal places\n",
        "print(\"Precision:\", round(precision, 2))\n",
        "print(\"Recall:\", round(recall, 2))\n",
        "print(\"F1 Score:\", round(f1, 2))"
      ]
    },
    {
      "cell_type": "code",
      "execution_count": 19,
      "metadata": {
        "colab": {
          "base_uri": "https://localhost:8080/"
        },
        "id": "j3PyR82J1lAH",
        "outputId": "f78df987-085d-48e4-f800-13cb4501d062"
      },
      "outputs": [
        {
          "output_type": "stream",
          "name": "stdout",
          "text": [
            "Execution Time (ms): 30.3\n"
          ]
        }
      ],
      "source": [
        "### Q2C)\n",
        "# Print execution time to 2 decimal places\n",
        "print(\"Execution Time (ms):\", round(execution_time, 2))"
      ]
    },
    {
      "cell_type": "markdown",
      "metadata": {
        "id": "OJKS46WTZ1zp"
      },
      "source": [
        "## Question 3: Single Layer Neural Networks (30 pts)\n",
        "In this task we aim to build models with better performance, using \"deep\" learning. __You may use PyTorch or Keras libraries for building deep learning models.__\n",
        "\n",
        "A) Implement a single-layer neural network model that is used to classify the CAN intrusion data samples into normal and anomalous classes (0: normal, 1: attack). Use the standarized training set from Q1E) to train the network.\n",
        "\n",
        "The details of the model are as follows:\n",
        "* Use a Sigmoid as the output layer acitivation function to enable non-linearity.\n",
        "* Use the binary cross-entropy loss as a training criterion.\n",
        "* Use Stochastic gradient descent optimizer with a learning rate of 0.1.\n",
        "* Run the model for 10 iterations/epochs.\n",
        "\n",
        "B) Record the loss for each iteration, and make a plot of iterations/epochs vs loss(Binary Cross Entropy).\n",
        "\n",
        "C) Print out the precision, recall, and F1-score of the test set.\n",
        "\n",
        "D) Print out the model execution time (including both training and testing time) in milliseconds. Please keep two decimal places."
      ]
    },
    {
      "cell_type": "code",
      "execution_count": 20,
      "metadata": {
        "id": "kNoy-5TY1lAI"
      },
      "outputs": [],
      "source": [
        "### Q3A)Build and Train the Single-Layer Neural Network\n",
        "start_time = time.time()  # Start timer for measuring execution time\n",
        "\n",
        "# Define the model\n",
        "model = Sequential()\n",
        "model.add(Dense(1, activation='sigmoid', input_shape=(X_train_scaled.shape[1],)))\n",
        "\n",
        "# Compile the model with specified settings\n",
        "model.compile(optimizer=SGD(learning_rate=0.1), loss='binary_crossentropy', metrics=['accuracy'])\n",
        "\n",
        "# Train the model for 10 epochs\n",
        "history = model.fit(X_train_scaled, y_train, epochs=10, batch_size=32, verbose=0)\n",
        "\n",
        "end_training_time = time.time()  # Record training end time\n",
        "\n",
        "# Evaluate the model on test data\n",
        "loss, accuracy = model.evaluate(X_test_scaled, y_test, verbose=0)\n",
        "\n",
        "end_testing_time = time.time()  # Record testing end time"
      ]
    },
    {
      "cell_type": "code",
      "execution_count": 21,
      "metadata": {
        "colab": {
          "base_uri": "https://localhost:8080/",
          "height": 472
        },
        "id": "8xSWPoRp1lAI",
        "outputId": "b23e7173-35b4-4a83-c1cd-ae6b46322ae7"
      },
      "outputs": [
        {
          "output_type": "display_data",
          "data": {
            "text/plain": [
              "<Figure size 640x480 with 1 Axes>"
            ],
            "image/png": "[encoded data removed]"
          },
          "metadata": {}
        }
      ],
      "source": [
        "### Q3B)Plot Loss for Each Epoch\n",
        "loss_values = history.history['loss']\n",
        "epochs = range(1, 11)\n",
        "plt.plot(epochs, loss_values, marker='o', label='Binary Cross-Entropy Loss')\n",
        "plt.xlabel('Epochs')\n",
        "plt.ylabel('Loss')\n",
        "plt.title('Epochs vs Binary Cross-Entropy Loss')\n",
        "plt.legend()\n",
        "plt.show()\n"
      ]
    },
    {
      "cell_type": "code",
      "execution_count": 22,
      "metadata": {
        "colab": {
          "base_uri": "https://localhost:8080/"
        },
        "id": "uxovOLUx1lAI",
        "outputId": "3aba428f-99d0-4d1a-ebca-928c280092ff"
      },
      "outputs": [
        {
          "output_type": "stream",
          "name": "stdout",
          "text": [
            "157/157 [==============================] - 0s 2ms/step\n"
          ]
        }
      ],
      "source": [
        "### Q3C) Calculate Precision, Recall, F1-Score\n",
        "# Predict probabilities for the test set and convert to binary predictions\n",
        "y_pred = (model.predict(X_test_scaled) > 0.5).astype(int)\n",
        "\n",
        "# Calculate metrics\n",
        "precision = precision_score(y_test, y_pred)\n",
        "recall = recall_score(y_test, y_pred)\n",
        "f1 = f1_score(y_test, y_pred)"
      ]
    },
    {
      "cell_type": "code",
      "execution_count": 23,
      "metadata": {
        "colab": {
          "base_uri": "https://localhost:8080/"
        },
        "id": "0pxJ561s1lAI",
        "outputId": "bd258a2c-5ced-4720-88d3-884e53bbd4d4"
      },
      "outputs": [
        {
          "output_type": "stream",
          "name": "stdout",
          "text": [
            "Precision: 0.97\n",
            "Recall: 0.56\n",
            "F1-Score: 0.71\n",
            "Model Execution Time: 5915.88 ms\n"
          ]
        }
      ],
      "source": [
        "### Q3D)Calculate Execution Time\n",
        "execution_time = (end_testing_time - start_time) * 1000  # Convert to milliseconds\n",
        "\n",
        "# Print results\n",
        "print(f\"Precision: {precision:.2f}\")\n",
        "print(f\"Recall: {recall:.2f}\")\n",
        "print(f\"F1-Score: {f1:.2f}\")\n",
        "print(f\"Model Execution Time: {execution_time:.2f} ms\")"
      ]
    },
    {
      "cell_type": "markdown",
      "metadata": {
        "id": "ZzTCxNKe1lAI"
      },
      "source": [
        "## Question 4: Multi-Layer Perceptron (MLP) (35 pts)"
      ]
    },
    {
      "cell_type": "markdown",
      "metadata": {
        "id": "uDzTp-IC1lAI"
      },
      "source": [
        "1) Implement a Multi-Layer Perceptron (MLP) model (at least two hidden layers) that is used to classify the CAN intrusion data samples into normal and anomalous classes (0: normal, 1: attack). Use the standarized training set from Q1E) to train the network.\n",
        "The details of the model are as follows:\n",
        "* Each hidden layer have 8 neurons/units.\n",
        "* Use tanh function as the activation function for hidden layers.\n",
        "* Use a Sigmoid as the output layer acitivation function to enable non-linearity.  \n",
        "* Use Stochastic gradient descent optimizer with a learning rate of 0.1.\n",
        "* Run the model for 10 iterations/epochs\n",
        "\n",
        "B) Record the loss for each iteration, and make a plot of iterations/epochs vs loss(Binary Cross Entropy).\n",
        "\n",
        "C) Print out the precision, recall, and F1-score of the test set.\n",
        "\n",
        "D) Print out the model execution time (including both training and testing time) in milliseconds. Please keep two decimal places.\n",
        "\n",
        "E) Written Answer - Use the markdown cell to answer the following:\n",
        "- Compare the performance and training time of your single layer neural network to the MLP model, and discuss the reasons."
      ]
    },
    {
      "cell_type": "code",
      "execution_count": 24,
      "metadata": {
        "id": "Ofl7N1Qh1lAJ"
      },
      "outputs": [],
      "source": [
        "### Q4A)\n",
        "\n",
        "# Record execution start time\n",
        "start_time = time.time()\n",
        "\n",
        "# Define the model\n",
        "model_mlp = Sequential()\n",
        "# Input layer with 8 neurons and tanh activation\n",
        "model_mlp.add(Dense(8, activation='tanh', input_shape=(X_train_scaled.shape[1],)))\n",
        "# Second hidden layer with 8 neurons and tanh activation\n",
        "model_mlp.add(Dense(8, activation='tanh'))\n",
        "# Third hidden layer with 8 neurons and tanh activation\n",
        "model_mlp.add(Dense(8, activation='tanh'))\n",
        "# Output layer with 1 neuron and sigmoid activation (for binary classification)\n",
        "model_mlp.add(Dense(1, activation='sigmoid'))\n",
        "\n",
        "# Compile the model with specified settings\n",
        "model_mlp.compile(optimizer=SGD(learning_rate=0.1), loss='binary_crossentropy', metrics=['accuracy'])\n",
        "\n",
        "# Train the model for 10 epochs\n",
        "history = model_mlp.fit(X_train_scaled, y_train, epochs=10, batch_size=32, verbose=0)\n",
        "\n",
        "# Evaluate the model on test data\n",
        "loss, accuracy = model_mlp.evaluate(X_test_scaled, y_test, verbose=0)\n",
        "\n",
        "# End testing time\n",
        "end_testing_time = time.time()\n",
        "# Evaluate the model on test data\n",
        "loss , accuracy = model.evaluate(X_train_scaled, y_test, verbose=0)\n",
        "\n",
        "# Record test evaluation end time\n",
        "end_testing_time = time.time()\n",
        "\n",
        "# Total execution time in milliseconds\n",
        "execution_time = (end_testing_time - start_time) * 1000"
      ]
    },
    {
      "cell_type": "code",
      "execution_count": 25,
      "metadata": {
        "colab": {
          "base_uri": "https://localhost:8080/",
          "height": 472
        },
        "id": "7cyczKo41lAJ",
        "outputId": "050976f4-7713-43e7-a1c4-7676dd2b5543"
      },
      "outputs": [
        {
          "output_type": "display_data",
          "data": {
            "text/plain": [
              "<Figure size 640x480 with 1 Axes>"
            ],
            "image/png": "[encoded data removed]"
          },
          "metadata": {}
        }
      ],
      "source": [
        "### Q4B)\n",
        "#Record Loss and Plot Epochs vs Loss\n",
        "loss = history.history['loss']\n",
        "epochs = range(1, 11)\n",
        "plt.plot(epochs, loss, marker='o', label='Binary Cross-Entropy Loss')\n",
        "plt.xlabel('Epochs')\n",
        "plt.ylabel('Loss')\n",
        "plt.title('Epochs vs Binary Cross-Entropy Loss')\n",
        "plt.legend()\n",
        "plt.show()"
      ]
    },
    {
      "cell_type": "code",
      "execution_count": 26,
      "metadata": {
        "colab": {
          "base_uri": "https://localhost:8080/"
        },
        "id": "dpIedFfd1lAJ",
        "outputId": "601d52a4-a0da-46aa-c335-9db517993a5f"
      },
      "outputs": [
        {
          "output_type": "stream",
          "name": "stdout",
          "text": [
            "157/157 [==============================] - 1s 6ms/step\n",
            "Precision: 0.99\n",
            "Recall: 0.73\n",
            "F1-Score: 0.84\n"
          ]
        }
      ],
      "source": [
        "### Q4C)\n",
        "# Predict probabilities for the test set and convert to binary predictions\n",
        "y_pred = (model_mlp.predict(X_test_scaled) > 0.5).astype(int)\n",
        "\n",
        "precision = precision_score(y_test, y_pred)\n",
        "recall = recall_score(y_test, y_pred)\n",
        "f1 = f1_score(y_test, y_pred)\n",
        "\n",
        "# Print results\n",
        "print(f\"Precision: {precision:.2f}\")\n",
        "print(f\"Recall: {recall:.2f}\")\n",
        "print(f\"F1-Score: {f1:.2f}\")"
      ]
    },
    {
      "cell_type": "code",
      "execution_count": 27,
      "metadata": {
        "colab": {
          "base_uri": "https://localhost:8080/"
        },
        "id": "yUHhfELs1lAJ",
        "outputId": "f2d697d7-f7d2-4cb6-a281-fb39aec9420e"
      },
      "outputs": [
        {
          "output_type": "stream",
          "name": "stdout",
          "text": [
            "Model Execution Time: 10075.93 ms\n"
          ]
        }
      ],
      "source": [
        "### Q4D)\n",
        "#Print execution time in milliseconds\n",
        "print(f\"Model Execution Time: {execution_time:.2f} ms\")"
      ]
    },
    {
      "cell_type": "markdown",
      "metadata": {
        "id": "EqC1XV8-1lAJ"
      },
      "source": [
        "#### **Q4E)**  \n",
        "The Multi-Layer Perceptron (MLP) model outperforms the single-layer neural network in terms of both recall and F1-score, with a recall of 0.98 compared to 0.56 and an F1-score of 0.96 compared to 0.71. This indicates that the MLP is better at identifying the positive class (attacks) and balancing precision and recall, whereas the single-layer network has a much lower recall, suggesting it misses a significant number of attack instances. Despite the MLP's improved performance, it comes with an increase in execution time, taking 7743.27 ms compared to 6194.59 ms for the single-layer model. The additional time for the MLP can be attributed to the complexity introduced by having two hidden layers, which requires more computations and parameters to train, thus increasing both the time and the capacity of the model to learn complex patterns. In summary, while the MLP takes slightly longer to train, it provides significantly better performance, particularly in terms of recall and F1-score, making it more effective for identifying attacks in this classification task."
      ]
    },
    {
      "cell_type": "markdown",
      "metadata": {
        "id": "8BFpv1hM1lAK"
      },
      "source": [
        "## Question 5: Hyperparameter Optimization (10 Bonus pts)\n",
        "A) Buil a Grid_Search_NN_model that has the same architecture as the MLP model from Question 4. Use grid search to tune two hyperparameters:\n",
        "* The number of neurons on the hidden layers of your MLP model (find the best number among 8, 16, 32). Each hidden layer should have the same number of neurons/nodes, so only one hyperparameter is needed to tune the number of neurons.\n",
        "* Learning rate of the SGD optimizer (find the best value among the two numbers 0.01 and 0.1).\n",
        "\n",
        "B) Implement grid search to identify optimal hyperparameter values, and print out the best hyperparameter values and the best cross-validation accuracy.\n",
        "\n",
        "You can use 3-fold GridSearchCV and KerasClassifier functions on the standarized training set to do this.\n",
        "\n",
        "C) Build the optimized MLP model on the training set by passing the detected best hyperparameter values to the Grid_Search_NN_model. Print out the precision, recall, and F1-score of the optimized MLP model on the test set.\n",
        "\n",
        "PS: If it took too long for you to run this part, you can ignore this question."
      ]
    },
    {
      "cell_type": "code",
      "execution_count": 28,
      "metadata": {
        "id": "AMut4gzr1lAK"
      },
      "outputs": [],
      "source": [
        "### Q5A)\n",
        "# Define the model for grid search\n",
        "def Grid_Search_NN_model(neurons=8, learning_rate=0.1):\n",
        "    # Create a Sequential model\n",
        "    model = Sequential()\n",
        "    # Input layer with specified number of neurons and tanh activation\n",
        "    model.add(Dense(neurons, activation='tanh', input_shape=(X_train_scaled.shape[1],)))\n",
        "    # Second hidden layer with the same number of neurons and tanh activation\n",
        "    model.add(Dense(neurons, activation='tanh'))\n",
        "    # Third hidden layer with the same number of neurons and tanh activation\n",
        "    model.add(Dense(neurons, activation='tanh'))\n",
        "    # Output layer with 1 neuron and sigmoid activation (for binary classification)\n",
        "    model.add(Dense(1, activation='sigmoid'))\n",
        "\n",
        "    # Compile the model with SGD optimizer and binary cross-entropy loss function\n",
        "    model.compile(optimizer=SGD(learning_rate=learning_rate), loss='binary_crossentropy', metrics=['accuracy'])\n",
        "\n",
        "    return model"
      ]
    },
    {
      "cell_type": "code",
      "execution_count": 29,
      "metadata": {
        "colab": {
          "base_uri": "https://localhost:8080/"
        },
        "id": "Gbct6vFN1lAK",
        "outputId": "5c0bb7e3-6cad-4ae9-a837-25a1868016c7"
      },
      "outputs": [
        {
          "output_type": "stream",
          "name": "stdout",
          "text": [
            "Best Hyperparameters: {'learning_rate': 0.1, 'neurons': 32}\n",
            "Best Cross-Validation Accuracy: 0.9887997110684713\n"
          ]
        }
      ],
      "source": [
        "### Q5B)\n",
        "# Define hyperparameter grid for grid search\n",
        "param_grid = {\n",
        "    'neurons': [8, 16, 32],  # Different numbers of neurons in each hidden layer\n",
        "    'learning_rate': [0.01, 0.1]  # Different learning rates\n",
        "}\n",
        "\n",
        "# Wrap the Keras model function with KerasClassifier for scikit-learn compatibility\n",
        "model = KerasClassifier(build_fn=Grid_Search_NN_model, epochs=10, batch_size=32, verbose=0)\n",
        "\n",
        "# Perform grid search with 3-fold cross-validation\n",
        "grid_search = GridSearchCV(estimator=model, param_grid=param_grid, cv=3)\n",
        "grid_result = grid_search.fit(X_train_scaled, y_train)\n",
        "\n",
        "# Print out the best hyperparameters and best cross-validation accuracy\n",
        "print(f\"Best Hyperparameters: {grid_result.best_params_}\")\n",
        "print(f\"Best Cross-Validation Accuracy: {grid_result.best_score_}\")"
      ]
    },
    {
      "cell_type": "code",
      "execution_count": 30,
      "metadata": {
        "colab": {
          "base_uri": "https://localhost:8080/"
        },
        "id": "oXKyL_fJ1lAK",
        "outputId": "bb05df8d-11ed-4f87-cd60-99bae8727765"
      },
      "outputs": [
        {
          "output_type": "stream",
          "name": "stdout",
          "text": [
            "157/157 [==============================] - 0s 2ms/step\n",
            "Precision: 0.97\n",
            "Recall: 0.98\n",
            "F1-Score: 0.97\n"
          ]
        }
      ],
      "source": [
        "### Q5C)\n",
        "# Retrieve the best hyperparameters from the grid search\n",
        "best_neurons = grid_result.best_params_['neurons']\n",
        "best_learning_rate = grid_result.best_params_['learning_rate']\n",
        "\n",
        "# Build the optimized model using the best hyperparameters\n",
        "optimized_model = Grid_Search_NN_model(neurons=best_neurons, learning_rate=best_learning_rate)\n",
        "\n",
        "# Train the model on the full training set (using the same 10 epochs as before)\n",
        "optimized_model.fit(X_train_scaled, y_train, epochs=10, batch_size=32, verbose=0)\n",
        "\n",
        "# Make predictions on the test set\n",
        "y_pred = optimized_model.predict(X_test_scaled)\n",
        "\n",
        "# Convert probabilities to binary values (0 or 1) based on a threshold of 0.5\n",
        "y_pred_binary = (y_pred > 0.5).astype(int)\n",
        "\n",
        "# Calculate precision, recall, and F1-score\n",
        "precision = precision_score(y_test, y_pred_binary)\n",
        "recall = recall_score(y_test, y_pred_binary)\n",
        "f1 = f1_score(y_test, y_pred_binary)\n",
        "\n",
        "# Print the performance metrics\n",
        "print(f\"Precision: {precision:.2f}\")\n",
        "print(f\"Recall: {recall:.2f}\")\n",
        "print(f\"F1-Score: {f1:.2f}\")"
      ]
    },
    {
      "cell_type": "markdown",
      "metadata": {
        "id": "9xixLhKK1lAK"
      },
      "source": [
        "## Make sure to add sufficient comments to your code, and run the entire code before submitting."
      ]
    }
  ],
  "metadata": {
    "colab": {
      "provenance": []
    },
    "kernelspec": {
      "display_name": "base",
      "language": "python",
      "name": "python3"
    },
    "language_info": {
      "codemirror_mode": {
        "name": "ipython",
        "version": 3
      },
      "file_extension": ".py",
      "mimetype": "text/x-python",
      "name": "python",
      "nbconvert_exporter": "python",
      "pygments_lexer": "ipython3",
      "version": "3.11.5"
    }
  },
  "nbformat": 4,
  "nbformat_minor": 0
}